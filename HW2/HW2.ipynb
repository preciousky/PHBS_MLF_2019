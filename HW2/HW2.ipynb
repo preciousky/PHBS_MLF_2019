{
 "cells": [
  {
   "cell_type": "markdown",
   "metadata": {},
   "source": [
    "# Homework 2: playing with pandas dataframe\n",
    "By Gao tianqi (Edward)\n",
    "\n",
    "student number: 1901212578\n",
    "\n",
    "Data source: http://archive.ics.uci.edu/ml/datasets/Polish+companies+bankruptcy+data"
   ]
  },
  {
   "cell_type": "markdown",
   "metadata": {},
   "source": [
    "## Step 0: Import  Libraries and Dataset"
   ]
  },
  {
   "cell_type": "code",
   "execution_count": 349,
   "metadata": {},
   "outputs": [],
   "source": [
    "from scipy.io import arff\n",
    "import pandas as pd\n",
    "from sklearn.impute import SimpleImputer as Impute"
   ]
  },
  {
   "cell_type": "code",
   "execution_count": 350,
   "metadata": {},
   "outputs": [],
   "source": [
    "data = arff.loadarff('4year.arff')\n",
    "df = pd.DataFrame(data[0])"
   ]
  },
  {
   "cell_type": "markdown",
   "metadata": {},
   "source": [
    "## Step 1: Generate New Data Set with 4 Features"
   ]
  },
  {
   "cell_type": "markdown",
   "metadata": {},
   "source": [
    "### (1) Select the \"Attr1, 2, 7, 10\" and \"class\" from dataset and rename column names"
   ]
  },
  {
   "cell_type": "code",
   "execution_count": 351,
   "metadata": {},
   "outputs": [],
   "source": [
    "df = df[['Attr1','Attr2','Attr7','Attr10','class']]\n",
    "newColNames = ['X1','X2','X7','X10','class']\n",
    "df.columns = newColNames"
   ]
  },
  {
   "cell_type": "markdown",
   "metadata": {},
   "source": [
    "### (2) Imput the NAN value with column-avg of other samples"
   ]
  },
  {
   "cell_type": "code",
   "execution_count": 352,
   "metadata": {
    "scrolled": true
   },
   "outputs": [
    {
     "data": {
      "text/plain": [
       "X1       1\n",
       "X2       1\n",
       "X7       1\n",
       "X10      1\n",
       "class    0\n",
       "dtype: int64"
      ]
     },
     "execution_count": 352,
     "metadata": {},
     "output_type": "execute_result"
    }
   ],
   "source": [
    "df.isnull().sum()"
   ]
  },
  {
   "cell_type": "code",
   "execution_count": 353,
   "metadata": {},
   "outputs": [
    {
     "data": {
      "text/plain": [
       "X1       0\n",
       "X2       0\n",
       "X7       0\n",
       "X10      0\n",
       "class    0\n",
       "dtype: int64"
      ]
     },
     "execution_count": 353,
     "metadata": {},
     "output_type": "execute_result"
    }
   ],
   "source": [
    "# impute missing values via the column mean\n",
    "imputer = Impute()\n",
    "imputed_data = imputer.fit(df.values).transform(df.values)\n",
    "\n",
    "all_company_df = pd.DataFrame(imputed_data)\n",
    "all_company_df.columns = newColNames\n",
    "all_company_df.isnull().sum()"
   ]
  },
  {
   "cell_type": "markdown",
   "metadata": {},
   "source": [
    "## Step 2: Genarate 3 Company Groups and Answer the Questions for Each Group"
   ]
  },
  {
   "cell_type": "markdown",
   "metadata": {},
   "source": [
    "### (1) Group 1: all-companies group"
   ]
  },
  {
   "cell_type": "code",
   "execution_count": 354,
   "metadata": {},
   "outputs": [
    {
     "data": {
      "text/html": [
       "<div>\n",
       "<style scoped>\n",
       "    .dataframe tbody tr th:only-of-type {\n",
       "        vertical-align: middle;\n",
       "    }\n",
       "\n",
       "    .dataframe tbody tr th {\n",
       "        vertical-align: top;\n",
       "    }\n",
       "\n",
       "    .dataframe thead th {\n",
       "        text-align: right;\n",
       "    }\n",
       "</style>\n",
       "<table border=\"1\" class=\"dataframe\">\n",
       "  <thead>\n",
       "    <tr style=\"text-align: right;\">\n",
       "      <th></th>\n",
       "      <th>X1</th>\n",
       "      <th>X2</th>\n",
       "      <th>X7</th>\n",
       "      <th>X10</th>\n",
       "      <th>class</th>\n",
       "    </tr>\n",
       "  </thead>\n",
       "  <tbody>\n",
       "    <tr>\n",
       "      <td>0</td>\n",
       "      <td>0.159290</td>\n",
       "      <td>0.46240</td>\n",
       "      <td>0.189480</td>\n",
       "      <td>0.38330</td>\n",
       "      <td>0.0</td>\n",
       "    </tr>\n",
       "    <tr>\n",
       "      <td>1</td>\n",
       "      <td>-0.127430</td>\n",
       "      <td>0.46243</td>\n",
       "      <td>-0.127430</td>\n",
       "      <td>0.53757</td>\n",
       "      <td>0.0</td>\n",
       "    </tr>\n",
       "    <tr>\n",
       "      <td>2</td>\n",
       "      <td>0.070488</td>\n",
       "      <td>0.23570</td>\n",
       "      <td>0.086895</td>\n",
       "      <td>0.67689</td>\n",
       "      <td>0.0</td>\n",
       "    </tr>\n",
       "    <tr>\n",
       "      <td>3</td>\n",
       "      <td>0.136760</td>\n",
       "      <td>0.40538</td>\n",
       "      <td>0.136760</td>\n",
       "      <td>0.58938</td>\n",
       "      <td>0.0</td>\n",
       "    </tr>\n",
       "    <tr>\n",
       "      <td>4</td>\n",
       "      <td>-0.110080</td>\n",
       "      <td>0.69793</td>\n",
       "      <td>-0.110080</td>\n",
       "      <td>0.30207</td>\n",
       "      <td>0.0</td>\n",
       "    </tr>\n",
       "    <tr>\n",
       "      <td>...</td>\n",
       "      <td>...</td>\n",
       "      <td>...</td>\n",
       "      <td>...</td>\n",
       "      <td>...</td>\n",
       "      <td>...</td>\n",
       "    </tr>\n",
       "    <tr>\n",
       "      <td>9787</td>\n",
       "      <td>0.004676</td>\n",
       "      <td>0.54949</td>\n",
       "      <td>0.013002</td>\n",
       "      <td>0.43205</td>\n",
       "      <td>1.0</td>\n",
       "    </tr>\n",
       "    <tr>\n",
       "      <td>9788</td>\n",
       "      <td>-0.027610</td>\n",
       "      <td>0.60748</td>\n",
       "      <td>-0.027610</td>\n",
       "      <td>0.33509</td>\n",
       "      <td>1.0</td>\n",
       "    </tr>\n",
       "    <tr>\n",
       "      <td>9789</td>\n",
       "      <td>-0.238290</td>\n",
       "      <td>0.62708</td>\n",
       "      <td>-0.240360</td>\n",
       "      <td>0.17760</td>\n",
       "      <td>1.0</td>\n",
       "    </tr>\n",
       "    <tr>\n",
       "      <td>9790</td>\n",
       "      <td>0.097188</td>\n",
       "      <td>0.75300</td>\n",
       "      <td>0.104280</td>\n",
       "      <td>0.24700</td>\n",
       "      <td>1.0</td>\n",
       "    </tr>\n",
       "    <tr>\n",
       "      <td>9791</td>\n",
       "      <td>0.021416</td>\n",
       "      <td>0.48678</td>\n",
       "      <td>0.027253</td>\n",
       "      <td>0.51267</td>\n",
       "      <td>1.0</td>\n",
       "    </tr>\n",
       "  </tbody>\n",
       "</table>\n",
       "<p>9792 rows × 5 columns</p>\n",
       "</div>"
      ],
      "text/plain": [
       "            X1       X2        X7      X10  class\n",
       "0     0.159290  0.46240  0.189480  0.38330    0.0\n",
       "1    -0.127430  0.46243 -0.127430  0.53757    0.0\n",
       "2     0.070488  0.23570  0.086895  0.67689    0.0\n",
       "3     0.136760  0.40538  0.136760  0.58938    0.0\n",
       "4    -0.110080  0.69793 -0.110080  0.30207    0.0\n",
       "...        ...      ...       ...      ...    ...\n",
       "9787  0.004676  0.54949  0.013002  0.43205    1.0\n",
       "9788 -0.027610  0.60748 -0.027610  0.33509    1.0\n",
       "9789 -0.238290  0.62708 -0.240360  0.17760    1.0\n",
       "9790  0.097188  0.75300  0.104280  0.24700    1.0\n",
       "9791  0.021416  0.48678  0.027253  0.51267    1.0\n",
       "\n",
       "[9792 rows x 5 columns]"
      ]
     },
     "execution_count": 354,
     "metadata": {},
     "output_type": "execute_result"
    }
   ],
   "source": [
    "all_company_df"
   ]
  },
  {
   "cell_type": "markdown",
   "metadata": {},
   "source": [
    "##### Calculate mean and std for X1 to X4 in this group"
   ]
  },
  {
   "cell_type": "code",
   "execution_count": 355,
   "metadata": {},
   "outputs": [
    {
     "data": {
      "text/html": [
       "<div>\n",
       "<style scoped>\n",
       "    .dataframe tbody tr th:only-of-type {\n",
       "        vertical-align: middle;\n",
       "    }\n",
       "\n",
       "    .dataframe tbody tr th {\n",
       "        vertical-align: top;\n",
       "    }\n",
       "\n",
       "    .dataframe thead th {\n",
       "        text-align: right;\n",
       "    }\n",
       "</style>\n",
       "<table border=\"1\" class=\"dataframe\">\n",
       "  <thead>\n",
       "    <tr style=\"text-align: right;\">\n",
       "      <th></th>\n",
       "      <th>X1</th>\n",
       "      <th>X2</th>\n",
       "      <th>X7</th>\n",
       "      <th>X10</th>\n",
       "    </tr>\n",
       "  </thead>\n",
       "  <tbody>\n",
       "    <tr>\n",
       "      <td>all_company_group_mean</td>\n",
       "      <td>0.043019</td>\n",
       "      <td>0.596404</td>\n",
       "      <td>0.059446</td>\n",
       "      <td>0.389040</td>\n",
       "    </tr>\n",
       "    <tr>\n",
       "      <td>all_company_group_std</td>\n",
       "      <td>0.359303</td>\n",
       "      <td>4.586887</td>\n",
       "      <td>0.533317</td>\n",
       "      <td>4.590064</td>\n",
       "    </tr>\n",
       "  </tbody>\n",
       "</table>\n",
       "</div>"
      ],
      "text/plain": [
       "                              X1        X2        X7       X10\n",
       "all_company_group_mean  0.043019  0.596404  0.059446  0.389040\n",
       "all_company_group_std   0.359303  4.586887  0.533317  4.590064"
      ]
     },
     "execution_count": 355,
     "metadata": {},
     "output_type": "execute_result"
    }
   ],
   "source": [
    "all_company_df_description = all_company_df.describe().loc[['mean', 'std']][['X1','X2','X7','X10']]\n",
    "all_company_df_description.index = ['all_company_group_mean','all_company_group_std']\n",
    "all_company_df_description"
   ]
  },
  {
   "cell_type": "markdown",
   "metadata": {},
   "source": [
    "##### Get the number of How many companies satisfy the conditions in this group"
   ]
  },
  {
   "cell_type": "code",
   "execution_count": 356,
   "metadata": {},
   "outputs": [
    {
     "data": {
      "text/plain": [
       "15"
      ]
     },
     "execution_count": 356,
     "metadata": {},
     "output_type": "execute_result"
    }
   ],
   "source": [
    "mean1 = all_company_df_description['X1'].loc['all_company_group_mean']\n",
    "mean10 = all_company_df_description['X10'].loc['all_company_group_mean']\n",
    "std1 = all_company_df_description['X1'].loc['all_company_group_std']\n",
    "std10 = all_company_df_description['X10'].loc['all_company_group_std']\n",
    "all_company_counter = sum((all_company_df['X1']<mean1-std1) & (all_company_df['X10']<mean10-std10))\n",
    "all_company_counter"
   ]
  },
  {
   "cell_type": "markdown",
   "metadata": {},
   "source": [
    "### (2) Group 2: Bankrupt companies group"
   ]
  },
  {
   "cell_type": "code",
   "execution_count": 357,
   "metadata": {},
   "outputs": [
    {
     "data": {
      "text/html": [
       "<div>\n",
       "<style scoped>\n",
       "    .dataframe tbody tr th:only-of-type {\n",
       "        vertical-align: middle;\n",
       "    }\n",
       "\n",
       "    .dataframe tbody tr th {\n",
       "        vertical-align: top;\n",
       "    }\n",
       "\n",
       "    .dataframe thead th {\n",
       "        text-align: right;\n",
       "    }\n",
       "</style>\n",
       "<table border=\"1\" class=\"dataframe\">\n",
       "  <thead>\n",
       "    <tr style=\"text-align: right;\">\n",
       "      <th></th>\n",
       "      <th>X1</th>\n",
       "      <th>X2</th>\n",
       "      <th>X7</th>\n",
       "      <th>X10</th>\n",
       "      <th>class</th>\n",
       "    </tr>\n",
       "  </thead>\n",
       "  <tbody>\n",
       "    <tr>\n",
       "      <td>9277</td>\n",
       "      <td>0.211500</td>\n",
       "      <td>1.33400</td>\n",
       "      <td>0.211500</td>\n",
       "      <td>-0.334230</td>\n",
       "      <td>1.0</td>\n",
       "    </tr>\n",
       "    <tr>\n",
       "      <td>9278</td>\n",
       "      <td>-0.129590</td>\n",
       "      <td>0.99630</td>\n",
       "      <td>-0.129590</td>\n",
       "      <td>0.003893</td>\n",
       "      <td>1.0</td>\n",
       "    </tr>\n",
       "    <tr>\n",
       "      <td>9279</td>\n",
       "      <td>0.064481</td>\n",
       "      <td>0.64146</td>\n",
       "      <td>0.071695</td>\n",
       "      <td>0.358540</td>\n",
       "      <td>1.0</td>\n",
       "    </tr>\n",
       "    <tr>\n",
       "      <td>9280</td>\n",
       "      <td>-0.081825</td>\n",
       "      <td>1.10050</td>\n",
       "      <td>-0.081825</td>\n",
       "      <td>-0.100480</td>\n",
       "      <td>1.0</td>\n",
       "    </tr>\n",
       "    <tr>\n",
       "      <td>9281</td>\n",
       "      <td>0.102180</td>\n",
       "      <td>0.42492</td>\n",
       "      <td>0.126920</td>\n",
       "      <td>0.574980</td>\n",
       "      <td>1.0</td>\n",
       "    </tr>\n",
       "    <tr>\n",
       "      <td>...</td>\n",
       "      <td>...</td>\n",
       "      <td>...</td>\n",
       "      <td>...</td>\n",
       "      <td>...</td>\n",
       "      <td>...</td>\n",
       "    </tr>\n",
       "    <tr>\n",
       "      <td>9787</td>\n",
       "      <td>0.004676</td>\n",
       "      <td>0.54949</td>\n",
       "      <td>0.013002</td>\n",
       "      <td>0.432050</td>\n",
       "      <td>1.0</td>\n",
       "    </tr>\n",
       "    <tr>\n",
       "      <td>9788</td>\n",
       "      <td>-0.027610</td>\n",
       "      <td>0.60748</td>\n",
       "      <td>-0.027610</td>\n",
       "      <td>0.335090</td>\n",
       "      <td>1.0</td>\n",
       "    </tr>\n",
       "    <tr>\n",
       "      <td>9789</td>\n",
       "      <td>-0.238290</td>\n",
       "      <td>0.62708</td>\n",
       "      <td>-0.240360</td>\n",
       "      <td>0.177600</td>\n",
       "      <td>1.0</td>\n",
       "    </tr>\n",
       "    <tr>\n",
       "      <td>9790</td>\n",
       "      <td>0.097188</td>\n",
       "      <td>0.75300</td>\n",
       "      <td>0.104280</td>\n",
       "      <td>0.247000</td>\n",
       "      <td>1.0</td>\n",
       "    </tr>\n",
       "    <tr>\n",
       "      <td>9791</td>\n",
       "      <td>0.021416</td>\n",
       "      <td>0.48678</td>\n",
       "      <td>0.027253</td>\n",
       "      <td>0.512670</td>\n",
       "      <td>1.0</td>\n",
       "    </tr>\n",
       "  </tbody>\n",
       "</table>\n",
       "<p>515 rows × 5 columns</p>\n",
       "</div>"
      ],
      "text/plain": [
       "            X1       X2        X7       X10  class\n",
       "9277  0.211500  1.33400  0.211500 -0.334230    1.0\n",
       "9278 -0.129590  0.99630 -0.129590  0.003893    1.0\n",
       "9279  0.064481  0.64146  0.071695  0.358540    1.0\n",
       "9280 -0.081825  1.10050 -0.081825 -0.100480    1.0\n",
       "9281  0.102180  0.42492  0.126920  0.574980    1.0\n",
       "...        ...      ...       ...       ...    ...\n",
       "9787  0.004676  0.54949  0.013002  0.432050    1.0\n",
       "9788 -0.027610  0.60748 -0.027610  0.335090    1.0\n",
       "9789 -0.238290  0.62708 -0.240360  0.177600    1.0\n",
       "9790  0.097188  0.75300  0.104280  0.247000    1.0\n",
       "9791  0.021416  0.48678  0.027253  0.512670    1.0\n",
       "\n",
       "[515 rows x 5 columns]"
      ]
     },
     "execution_count": 357,
     "metadata": {},
     "output_type": "execute_result"
    }
   ],
   "source": [
    "bankrupt_df = all_company_df[all_company_df['class'] == 1 ]\n",
    "bankrupt_df"
   ]
  },
  {
   "cell_type": "markdown",
   "metadata": {},
   "source": [
    "##### Calculate mean and std for X1 to X4 in this group"
   ]
  },
  {
   "cell_type": "code",
   "execution_count": 358,
   "metadata": {},
   "outputs": [
    {
     "data": {
      "text/html": [
       "<div>\n",
       "<style scoped>\n",
       "    .dataframe tbody tr th:only-of-type {\n",
       "        vertical-align: middle;\n",
       "    }\n",
       "\n",
       "    .dataframe tbody tr th {\n",
       "        vertical-align: top;\n",
       "    }\n",
       "\n",
       "    .dataframe thead th {\n",
       "        text-align: right;\n",
       "    }\n",
       "</style>\n",
       "<table border=\"1\" class=\"dataframe\">\n",
       "  <thead>\n",
       "    <tr style=\"text-align: right;\">\n",
       "      <th></th>\n",
       "      <th>X1</th>\n",
       "      <th>X2</th>\n",
       "      <th>X7</th>\n",
       "      <th>X10</th>\n",
       "    </tr>\n",
       "  </thead>\n",
       "  <tbody>\n",
       "    <tr>\n",
       "      <td>bankrupt_group_mean</td>\n",
       "      <td>-0.068873</td>\n",
       "      <td>0.878355</td>\n",
       "      <td>-0.061538</td>\n",
       "      <td>0.103367</td>\n",
       "    </tr>\n",
       "    <tr>\n",
       "      <td>bankrupt_group_std</td>\n",
       "      <td>0.568076</td>\n",
       "      <td>1.945596</td>\n",
       "      <td>0.568432</td>\n",
       "      <td>1.946747</td>\n",
       "    </tr>\n",
       "  </tbody>\n",
       "</table>\n",
       "</div>"
      ],
      "text/plain": [
       "                           X1        X2        X7       X10\n",
       "bankrupt_group_mean -0.068873  0.878355 -0.061538  0.103367\n",
       "bankrupt_group_std   0.568076  1.945596  0.568432  1.946747"
      ]
     },
     "execution_count": 358,
     "metadata": {},
     "output_type": "execute_result"
    }
   ],
   "source": [
    "bankrupt_df_description = bankrupt_df.describe().loc[['mean', 'std']][['X1','X2','X7','X10']]\n",
    "bankrupt_df_description.index = ['bankrupt_group_mean','bankrupt_group_std']\n",
    "bankrupt_df_description"
   ]
  },
  {
   "cell_type": "markdown",
   "metadata": {},
   "source": [
    "##### Get the number of How many companies satisfy the conditions in this group"
   ]
  },
  {
   "cell_type": "code",
   "execution_count": 359,
   "metadata": {},
   "outputs": [
    {
     "data": {
      "text/plain": [
       "4"
      ]
     },
     "execution_count": 359,
     "metadata": {},
     "output_type": "execute_result"
    }
   ],
   "source": [
    "mean1 = bankrupt_df_description['X1'].loc['bankrupt_group_mean']\n",
    "mean10 = bankrupt_df_description['X10'].loc['bankrupt_group_mean']\n",
    "std1 = bankrupt_df_description['X1'].loc['bankrupt_group_std']\n",
    "std10 = bankrupt_df_description['X10'].loc['bankrupt_group_std']\n",
    "bankrupt_counter = sum((bankrupt_df['X1']<mean1-std1) & (bankrupt_df['X10']<mean10-std10))\n",
    "bankrupt_counter"
   ]
  },
  {
   "cell_type": "markdown",
   "metadata": {},
   "source": [
    "### (3) Group 3: Still operating companies group"
   ]
  },
  {
   "cell_type": "code",
   "execution_count": 360,
   "metadata": {},
   "outputs": [
    {
     "data": {
      "text/html": [
       "<div>\n",
       "<style scoped>\n",
       "    .dataframe tbody tr th:only-of-type {\n",
       "        vertical-align: middle;\n",
       "    }\n",
       "\n",
       "    .dataframe tbody tr th {\n",
       "        vertical-align: top;\n",
       "    }\n",
       "\n",
       "    .dataframe thead th {\n",
       "        text-align: right;\n",
       "    }\n",
       "</style>\n",
       "<table border=\"1\" class=\"dataframe\">\n",
       "  <thead>\n",
       "    <tr style=\"text-align: right;\">\n",
       "      <th></th>\n",
       "      <th>X1</th>\n",
       "      <th>X2</th>\n",
       "      <th>X7</th>\n",
       "      <th>X10</th>\n",
       "      <th>class</th>\n",
       "    </tr>\n",
       "  </thead>\n",
       "  <tbody>\n",
       "    <tr>\n",
       "      <td>0</td>\n",
       "      <td>0.159290</td>\n",
       "      <td>0.46240</td>\n",
       "      <td>0.189480</td>\n",
       "      <td>0.38330</td>\n",
       "      <td>0.0</td>\n",
       "    </tr>\n",
       "    <tr>\n",
       "      <td>1</td>\n",
       "      <td>-0.127430</td>\n",
       "      <td>0.46243</td>\n",
       "      <td>-0.127430</td>\n",
       "      <td>0.53757</td>\n",
       "      <td>0.0</td>\n",
       "    </tr>\n",
       "    <tr>\n",
       "      <td>2</td>\n",
       "      <td>0.070488</td>\n",
       "      <td>0.23570</td>\n",
       "      <td>0.086895</td>\n",
       "      <td>0.67689</td>\n",
       "      <td>0.0</td>\n",
       "    </tr>\n",
       "    <tr>\n",
       "      <td>3</td>\n",
       "      <td>0.136760</td>\n",
       "      <td>0.40538</td>\n",
       "      <td>0.136760</td>\n",
       "      <td>0.58938</td>\n",
       "      <td>0.0</td>\n",
       "    </tr>\n",
       "    <tr>\n",
       "      <td>4</td>\n",
       "      <td>-0.110080</td>\n",
       "      <td>0.69793</td>\n",
       "      <td>-0.110080</td>\n",
       "      <td>0.30207</td>\n",
       "      <td>0.0</td>\n",
       "    </tr>\n",
       "    <tr>\n",
       "      <td>...</td>\n",
       "      <td>...</td>\n",
       "      <td>...</td>\n",
       "      <td>...</td>\n",
       "      <td>...</td>\n",
       "      <td>...</td>\n",
       "    </tr>\n",
       "    <tr>\n",
       "      <td>9272</td>\n",
       "      <td>0.026806</td>\n",
       "      <td>0.40065</td>\n",
       "      <td>0.036525</td>\n",
       "      <td>0.59935</td>\n",
       "      <td>0.0</td>\n",
       "    </tr>\n",
       "    <tr>\n",
       "      <td>9273</td>\n",
       "      <td>0.046223</td>\n",
       "      <td>0.31314</td>\n",
       "      <td>0.059665</td>\n",
       "      <td>0.68686</td>\n",
       "      <td>0.0</td>\n",
       "    </tr>\n",
       "    <tr>\n",
       "      <td>9274</td>\n",
       "      <td>0.412940</td>\n",
       "      <td>0.21516</td>\n",
       "      <td>0.412940</td>\n",
       "      <td>0.78484</td>\n",
       "      <td>0.0</td>\n",
       "    </tr>\n",
       "    <tr>\n",
       "      <td>9275</td>\n",
       "      <td>0.062592</td>\n",
       "      <td>0.54828</td>\n",
       "      <td>0.072901</td>\n",
       "      <td>0.45172</td>\n",
       "      <td>0.0</td>\n",
       "    </tr>\n",
       "    <tr>\n",
       "      <td>9276</td>\n",
       "      <td>0.054063</td>\n",
       "      <td>0.32409</td>\n",
       "      <td>0.054063</td>\n",
       "      <td>0.67591</td>\n",
       "      <td>0.0</td>\n",
       "    </tr>\n",
       "  </tbody>\n",
       "</table>\n",
       "<p>9277 rows × 5 columns</p>\n",
       "</div>"
      ],
      "text/plain": [
       "            X1       X2        X7      X10  class\n",
       "0     0.159290  0.46240  0.189480  0.38330    0.0\n",
       "1    -0.127430  0.46243 -0.127430  0.53757    0.0\n",
       "2     0.070488  0.23570  0.086895  0.67689    0.0\n",
       "3     0.136760  0.40538  0.136760  0.58938    0.0\n",
       "4    -0.110080  0.69793 -0.110080  0.30207    0.0\n",
       "...        ...      ...       ...      ...    ...\n",
       "9272  0.026806  0.40065  0.036525  0.59935    0.0\n",
       "9273  0.046223  0.31314  0.059665  0.68686    0.0\n",
       "9274  0.412940  0.21516  0.412940  0.78484    0.0\n",
       "9275  0.062592  0.54828  0.072901  0.45172    0.0\n",
       "9276  0.054063  0.32409  0.054063  0.67591    0.0\n",
       "\n",
       "[9277 rows x 5 columns]"
      ]
     },
     "execution_count": 360,
     "metadata": {},
     "output_type": "execute_result"
    }
   ],
   "source": [
    "still_operating_df = all_company_df[all_company_df['class'] == 0 ]\n",
    "still_operating_df"
   ]
  },
  {
   "cell_type": "markdown",
   "metadata": {},
   "source": [
    "##### Calculate mean and std for X1 to X4 in this group"
   ]
  },
  {
   "cell_type": "code",
   "execution_count": 361,
   "metadata": {},
   "outputs": [
    {
     "data": {
      "text/html": [
       "<div>\n",
       "<style scoped>\n",
       "    .dataframe tbody tr th:only-of-type {\n",
       "        vertical-align: middle;\n",
       "    }\n",
       "\n",
       "    .dataframe tbody tr th {\n",
       "        vertical-align: top;\n",
       "    }\n",
       "\n",
       "    .dataframe thead th {\n",
       "        text-align: right;\n",
       "    }\n",
       "</style>\n",
       "<table border=\"1\" class=\"dataframe\">\n",
       "  <thead>\n",
       "    <tr style=\"text-align: right;\">\n",
       "      <th></th>\n",
       "      <th>X1</th>\n",
       "      <th>X2</th>\n",
       "      <th>X7</th>\n",
       "      <th>X10</th>\n",
       "    </tr>\n",
       "  </thead>\n",
       "  <tbody>\n",
       "    <tr>\n",
       "      <td>still_operating_group_mean</td>\n",
       "      <td>0.049231</td>\n",
       "      <td>0.580752</td>\n",
       "      <td>0.066162</td>\n",
       "      <td>0.404899</td>\n",
       "    </tr>\n",
       "    <tr>\n",
       "      <td>still_operating_group_std</td>\n",
       "      <td>0.343002</td>\n",
       "      <td>4.689694</td>\n",
       "      <td>0.530524</td>\n",
       "      <td>4.692934</td>\n",
       "    </tr>\n",
       "  </tbody>\n",
       "</table>\n",
       "</div>"
      ],
      "text/plain": [
       "                                  X1        X2        X7       X10\n",
       "still_operating_group_mean  0.049231  0.580752  0.066162  0.404899\n",
       "still_operating_group_std   0.343002  4.689694  0.530524  4.692934"
      ]
     },
     "execution_count": 361,
     "metadata": {},
     "output_type": "execute_result"
    }
   ],
   "source": [
    "still_operating_df_description = still_operating_df.describe().loc[['mean', 'std']][['X1','X2','X7','X10']]\n",
    "still_operating_df_description.index = ['still_operating_group_mean','still_operating_group_std']\n",
    "still_operating_df_description"
   ]
  },
  {
   "cell_type": "markdown",
   "metadata": {},
   "source": [
    "##### Get the number of How many companies satisfy the conditions in this group"
   ]
  },
  {
   "cell_type": "code",
   "execution_count": 362,
   "metadata": {},
   "outputs": [
    {
     "data": {
      "text/plain": [
       "11"
      ]
     },
     "execution_count": 362,
     "metadata": {},
     "output_type": "execute_result"
    }
   ],
   "source": [
    "mean1 = still_operating_df_description['X1'].loc['still_operating_group_mean']\n",
    "mean10 = still_operating_df_description['X10'].loc['still_operating_group_mean']\n",
    "std1 = still_operating_df_description['X1'].loc['still_operating_group_std']\n",
    "std10 = still_operating_df_description['X10'].loc['still_operating_group_std']\n",
    "still_operating_counter = sum((still_operating_df['X1']<mean1-std1) & (still_operating_df['X10']<mean10-std10))\n",
    "still_operating_counter"
   ]
  },
  {
   "cell_type": "markdown",
   "metadata": {},
   "source": [
    "## Step 3: Calculate the Ratio of Bankrupted Company for Each Group"
   ]
  },
  {
   "cell_type": "markdown",
   "metadata": {},
   "source": [
    "##### Ratio for Group 1"
   ]
  },
  {
   "cell_type": "code",
   "execution_count": 363,
   "metadata": {},
   "outputs": [
    {
     "data": {
      "text/plain": [
       "0.052593954248366014"
      ]
     },
     "execution_count": 363,
     "metadata": {},
     "output_type": "execute_result"
    }
   ],
   "source": [
    "ratio_all_company_group = sum(all_company_df['class'] == 1)/all_company_df.shape[0]\n",
    "ratio_all_company_group"
   ]
  },
  {
   "cell_type": "markdown",
   "metadata": {},
   "source": [
    "##### Ratio for Group 2"
   ]
  },
  {
   "cell_type": "code",
   "execution_count": 364,
   "metadata": {},
   "outputs": [
    {
     "data": {
      "text/plain": [
       "1.0"
      ]
     },
     "execution_count": 364,
     "metadata": {},
     "output_type": "execute_result"
    }
   ],
   "source": [
    "ratio_bankrupt_group = sum(bankrupt_df['class'] == 1)/bankrupt_df.shape[0]\n",
    "ratio_bankrupt_group"
   ]
  },
  {
   "cell_type": "markdown",
   "metadata": {},
   "source": [
    "##### Ratio for Group 3"
   ]
  },
  {
   "cell_type": "code",
   "execution_count": 365,
   "metadata": {},
   "outputs": [
    {
     "data": {
      "text/plain": [
       "0.0"
      ]
     },
     "execution_count": 365,
     "metadata": {},
     "output_type": "execute_result"
    }
   ],
   "source": [
    "ratio_still_operating_group = sum(still_operating_df['class'] == 1)/still_operating_df.shape[0]\n",
    "ratio_still_operating_group"
   ]
  },
  {
   "cell_type": "markdown",
   "metadata": {},
   "source": [
    "# Homework 1: Summary"
   ]
  },
  {
   "cell_type": "markdown",
   "metadata": {},
   "source": [
    "### (1) The MEANs and STDs for each groups"
   ]
  },
  {
   "cell_type": "code",
   "execution_count": 369,
   "metadata": {},
   "outputs": [
    {
     "data": {
      "text/html": [
       "<div>\n",
       "<style scoped>\n",
       "    .dataframe tbody tr th:only-of-type {\n",
       "        vertical-align: middle;\n",
       "    }\n",
       "\n",
       "    .dataframe tbody tr th {\n",
       "        vertical-align: top;\n",
       "    }\n",
       "\n",
       "    .dataframe thead th {\n",
       "        text-align: right;\n",
       "    }\n",
       "</style>\n",
       "<table border=\"1\" class=\"dataframe\">\n",
       "  <thead>\n",
       "    <tr style=\"text-align: right;\">\n",
       "      <th></th>\n",
       "      <th>X1</th>\n",
       "      <th>X2</th>\n",
       "      <th>X7</th>\n",
       "      <th>X10</th>\n",
       "    </tr>\n",
       "  </thead>\n",
       "  <tbody>\n",
       "    <tr>\n",
       "      <td>all_company_group_mean</td>\n",
       "      <td>0.043019</td>\n",
       "      <td>0.596404</td>\n",
       "      <td>0.059446</td>\n",
       "      <td>0.389040</td>\n",
       "    </tr>\n",
       "    <tr>\n",
       "      <td>all_company_group_std</td>\n",
       "      <td>0.359303</td>\n",
       "      <td>4.586887</td>\n",
       "      <td>0.533317</td>\n",
       "      <td>4.590064</td>\n",
       "    </tr>\n",
       "    <tr>\n",
       "      <td>bankrupt_group_mean</td>\n",
       "      <td>-0.068873</td>\n",
       "      <td>0.878355</td>\n",
       "      <td>-0.061538</td>\n",
       "      <td>0.103367</td>\n",
       "    </tr>\n",
       "    <tr>\n",
       "      <td>bankrupt_group_std</td>\n",
       "      <td>0.568076</td>\n",
       "      <td>1.945596</td>\n",
       "      <td>0.568432</td>\n",
       "      <td>1.946747</td>\n",
       "    </tr>\n",
       "    <tr>\n",
       "      <td>still_operating_group_mean</td>\n",
       "      <td>0.049231</td>\n",
       "      <td>0.580752</td>\n",
       "      <td>0.066162</td>\n",
       "      <td>0.404899</td>\n",
       "    </tr>\n",
       "    <tr>\n",
       "      <td>still_operating_group_std</td>\n",
       "      <td>0.343002</td>\n",
       "      <td>4.689694</td>\n",
       "      <td>0.530524</td>\n",
       "      <td>4.692934</td>\n",
       "    </tr>\n",
       "  </tbody>\n",
       "</table>\n",
       "</div>"
      ],
      "text/plain": [
       "                                  X1        X2        X7       X10\n",
       "all_company_group_mean      0.043019  0.596404  0.059446  0.389040\n",
       "all_company_group_std       0.359303  4.586887  0.533317  4.590064\n",
       "bankrupt_group_mean        -0.068873  0.878355 -0.061538  0.103367\n",
       "bankrupt_group_std          0.568076  1.945596  0.568432  1.946747\n",
       "still_operating_group_mean  0.049231  0.580752  0.066162  0.404899\n",
       "still_operating_group_std   0.343002  4.689694  0.530524  4.692934"
      ]
     },
     "execution_count": 369,
     "metadata": {},
     "output_type": "execute_result"
    }
   ],
   "source": [
    "std_mean_df = pd.concat([all_company_df_description, bankrupt_df_description, still_operating_df_description], axis=0)\n",
    "std_mean_df"
   ]
  },
  {
   "cell_type": "markdown",
   "metadata": {},
   "source": [
    "### (2) Number of satisfying-condition companies in each group"
   ]
  },
  {
   "cell_type": "code",
   "execution_count": 373,
   "metadata": {},
   "outputs": [
    {
     "data": {
      "text/html": [
       "<div>\n",
       "<style scoped>\n",
       "    .dataframe tbody tr th:only-of-type {\n",
       "        vertical-align: middle;\n",
       "    }\n",
       "\n",
       "    .dataframe tbody tr th {\n",
       "        vertical-align: top;\n",
       "    }\n",
       "\n",
       "    .dataframe thead th {\n",
       "        text-align: right;\n",
       "    }\n",
       "</style>\n",
       "<table border=\"1\" class=\"dataframe\">\n",
       "  <thead>\n",
       "    <tr style=\"text-align: right;\">\n",
       "      <th></th>\n",
       "      <th>All-Company Group</th>\n",
       "      <th>Bankrupt Group</th>\n",
       "      <th>Still Operating Group</th>\n",
       "    </tr>\n",
       "  </thead>\n",
       "  <tbody>\n",
       "    <tr>\n",
       "      <td>Number of Satisfying-Condition Company</td>\n",
       "      <td>15</td>\n",
       "      <td>4</td>\n",
       "      <td>11</td>\n",
       "    </tr>\n",
       "  </tbody>\n",
       "</table>\n",
       "</div>"
      ],
      "text/plain": [
       "                                        All-Company Group  Bankrupt Group  \\\n",
       "Number of Satisfying-Condition Company                 15               4   \n",
       "\n",
       "                                        Still Operating Group  \n",
       "Number of Satisfying-Condition Company                     11  "
      ]
     },
     "execution_count": 373,
     "metadata": {},
     "output_type": "execute_result"
    }
   ],
   "source": [
    "count_table = {\n",
    "    'All-Company Group':[all_company_counter],\n",
    "    'Bankrupt Group':[bankrupt_counter],\n",
    "    'Still Operating Group':[still_operating_counter]\n",
    "}\n",
    "count_df = pd.DataFrame(count_table)\n",
    "count_df.index = ['Number of Satisfying-Condition Company']\n",
    "count_df"
   ]
  },
  {
   "cell_type": "markdown",
   "metadata": {},
   "source": [
    "### (3) Ratio of Bankrupt Companies in Each Group"
   ]
  },
  {
   "cell_type": "code",
   "execution_count": 374,
   "metadata": {},
   "outputs": [
    {
     "data": {
      "text/html": [
       "<div>\n",
       "<style scoped>\n",
       "    .dataframe tbody tr th:only-of-type {\n",
       "        vertical-align: middle;\n",
       "    }\n",
       "\n",
       "    .dataframe tbody tr th {\n",
       "        vertical-align: top;\n",
       "    }\n",
       "\n",
       "    .dataframe thead th {\n",
       "        text-align: right;\n",
       "    }\n",
       "</style>\n",
       "<table border=\"1\" class=\"dataframe\">\n",
       "  <thead>\n",
       "    <tr style=\"text-align: right;\">\n",
       "      <th></th>\n",
       "      <th>All-Company Group</th>\n",
       "      <th>Bankrupt Group</th>\n",
       "      <th>Still Operating Group</th>\n",
       "    </tr>\n",
       "  </thead>\n",
       "  <tbody>\n",
       "    <tr>\n",
       "      <td>Ratio of Bankrupted Company</td>\n",
       "      <td>0.052594</td>\n",
       "      <td>1.0</td>\n",
       "      <td>0.0</td>\n",
       "    </tr>\n",
       "  </tbody>\n",
       "</table>\n",
       "</div>"
      ],
      "text/plain": [
       "                             All-Company Group  Bankrupt Group  \\\n",
       "Ratio of Bankrupted Company           0.052594             1.0   \n",
       "\n",
       "                             Still Operating Group  \n",
       "Ratio of Bankrupted Company                    0.0  "
      ]
     },
     "execution_count": 374,
     "metadata": {},
     "output_type": "execute_result"
    }
   ],
   "source": [
    "ratio_table = {\n",
    "    'All-Company Group':[ratio_all_company_group],\n",
    "    'Bankrupt Group':[ratio_bankrupt_group],\n",
    "    'Still Operating Group':[ratio_still_operating_group ]\n",
    "}\n",
    "ratio_df = pd.DataFrame(ratio_table)\n",
    "ratio_df.index = ['Ratio of Bankrupted Company']\n",
    "ratio_df"
   ]
  }
 ],
 "metadata": {
  "kernelspec": {
   "display_name": "Python 3",
   "language": "python",
   "name": "python3"
  },
  "language_info": {
   "codemirror_mode": {
    "name": "ipython",
    "version": 3
   },
   "file_extension": ".py",
   "mimetype": "text/x-python",
   "name": "python",
   "nbconvert_exporter": "python",
   "pygments_lexer": "ipython3",
   "version": "3.7.4"
  }
 },
 "nbformat": 4,
 "nbformat_minor": 2
}
